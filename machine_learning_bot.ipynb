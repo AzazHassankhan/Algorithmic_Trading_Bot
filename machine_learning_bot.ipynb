{
 "cells": [
  {
   "cell_type": "markdown",
   "metadata": {},
   "source": [
    "# Stock Trading Bot"
   ]
  },
  {
   "cell_type": "code",
   "execution_count": 1,
   "metadata": {},
   "outputs": [],
   "source": [
    "import pandas as pd \n",
    "import numpy as np \n",
    "import talib as ta \n",
    "from sklearn.model_selection import train_test_split \n",
    "from sklearn.metrics import accuracy_score \n",
    "import alpaca_trade_api as tradeapi \n",
    "from alpaca_trade_api import TimeFrame, TimeFrameUnit \n",
    "from sklearn.ensemble import RandomForestClassifier\n",
    "import time\n",
    "from sklearn.preprocessing import StandardScaler\n",
    "from sklearn.svm import SVC"
   ]
  },
  {
   "cell_type": "markdown",
   "metadata": {},
   "source": [
    "# Api Communucation"
   ]
  },
  {
   "cell_type": "code",
   "execution_count": 2,
   "metadata": {},
   "outputs": [],
   "source": [
    "SEC_KEY = '7mi6lnaTynfrzxfDYyYUarBpUJ35sSgVEVIj6RZG'\n",
    "PUB_KEY ='PKDL8E9SBYH9GYYXXZNL'\n",
    "BASE_URL ='https://paper-api.alpaca.markets'\n",
    "symb = \"AMZN\"\n",
    "api = tradeapi.REST(key_id= PUB_KEY, secret_key=SEC_KEY, base_url=BASE_URL) #For real trading, don't enter a base_url\n",
    "position_Buy=None\n",
    "position_Sell=None"
   ]
  },
  {
   "cell_type": "markdown",
   "metadata": {},
   "source": [
    "# Class for Machine learning Accuracy and Prediction"
   ]
  },
  {
   "cell_type": "code",
   "execution_count": 3,
   "metadata": {},
   "outputs": [],
   "source": [
    "\n",
    "def Algorithm(df):\n",
    "\n",
    "        df['future_returns'] = df['close'].pct_change().shift(-1)\n",
    "        signal=[]\n",
    "        for i in range(len(df)):\n",
    "                if (df['future_returns'][i]>0 ):\n",
    "                    signal.append(1)\n",
    "                elif (df['future_returns'][i]<0):\n",
    "                    signal.append(2)\n",
    "                else:\n",
    "                    signal.append(3)\n",
    "        df['signal']=signal\n",
    "        df['Open-Close']=(df[\"open\"]-df['close']).shift(-1)\n",
    "        df['Close-High']=(df[\"close\"]-df['high']).shift(-1)\n",
    "        df['rsi'] = ta.RSI(df['close'].values, timeperiod=int(14))\n",
    "        df['adx'] = ta.ADX(df['high'].values, df['low'].values,df['open'].values, timeperiod=int(50))\n",
    "        df['sma'] = ta.SMA(df['close'],timeperiod=30)\n",
    "        df['corr'] = df['close'].rolling(window=int(6.5*4)).corr(df['sma'])\n",
    "        df['Close-Low']=(df[\"close\"]-df['low']).shift(-1)\n",
    "\n",
    "        df.dropna(inplace=True)\n",
    "        y = df[['signal']].copy()\n",
    "        X = df[[ 'rsi','adx', 'corr','volume','Open-Close','Close-Low']].copy()\n",
    "        split_percentage = 0.8\n",
    "        split = int(split_percentage*len(df))\n",
    "        X_train = X[:split]\n",
    "        y_train = y[:split]\n",
    "        X_test =  X[split:]\n",
    "        y_test =  y[split:]\n",
    "        scaler=StandardScaler()\n",
    "        X_train=scaler.fit_transform(X_train)\n",
    "        X_test=scaler.fit_transform(X_test)\n",
    "        # \n",
    "        # model=SVC()\n",
    "        model = RandomForestClassifier(n_estimators=100,random_state=20)\n",
    "        model.fit(X_train, y_train['signal'])\n",
    "        y_pred = model.predict(X_test)\n",
    "        Prediction=model.predict(X)[-1]\n",
    "        accuracy =accuracy_score(y_test, y_pred)\n",
    "        return accuracy,Prediction\n",
    "    \n"
   ]
  },
  {
   "cell_type": "code",
   "execution_count": 4,
   "metadata": {},
   "outputs": [
    {
     "name": "stdout",
     "output_type": "stream",
     "text": [
      "Checking Price\n"
     ]
    },
    {
     "name": "stderr",
     "output_type": "stream",
     "text": [
      "C:\\Users\\Azaz\\AppData\\Roaming\\Python\\Python39\\site-packages\\sklearn\\base.py:438: UserWarning: X has feature names, but RandomForestClassifier was fitted without feature names\n",
      "  warnings.warn(\n"
     ]
    },
    {
     "name": "stdout",
     "output_type": "stream",
     "text": [
      "Last Price: 2951.15\n",
      "Accuracy is 0.8555555555555555\n",
      "Buy\n",
      "Checking Price\n"
     ]
    },
    {
     "name": "stderr",
     "output_type": "stream",
     "text": [
      "C:\\Users\\Azaz\\AppData\\Roaming\\Python\\Python39\\site-packages\\sklearn\\base.py:438: UserWarning: X has feature names, but RandomForestClassifier was fitted without feature names\n",
      "  warnings.warn(\n"
     ]
    },
    {
     "name": "stdout",
     "output_type": "stream",
     "text": [
      "Last Price: 2947.495\n",
      "Accuracy is 0.8333333333333334\n",
      "Buy Closed\n",
      "Checking Price\n"
     ]
    },
    {
     "name": "stderr",
     "output_type": "stream",
     "text": [
      "C:\\Users\\Azaz\\AppData\\Roaming\\Python\\Python39\\site-packages\\sklearn\\base.py:438: UserWarning: X has feature names, but RandomForestClassifier was fitted without feature names\n",
      "  warnings.warn(\n"
     ]
    },
    {
     "name": "stdout",
     "output_type": "stream",
     "text": [
      "Last Price: 2948.0\n",
      "Accuracy is 0.8333333333333334\n",
      "Buy\n",
      "Checking Price\n"
     ]
    },
    {
     "name": "stderr",
     "output_type": "stream",
     "text": [
      "C:\\Users\\Azaz\\AppData\\Roaming\\Python\\Python39\\site-packages\\sklearn\\base.py:438: UserWarning: X has feature names, but RandomForestClassifier was fitted without feature names\n",
      "  warnings.warn(\n"
     ]
    },
    {
     "name": "stdout",
     "output_type": "stream",
     "text": [
      "Last Price: 2948.0\n",
      "Accuracy is 0.8333333333333334\n",
      "Checking Price\n"
     ]
    },
    {
     "name": "stderr",
     "output_type": "stream",
     "text": [
      "C:\\Users\\Azaz\\AppData\\Roaming\\Python\\Python39\\site-packages\\sklearn\\base.py:438: UserWarning: X has feature names, but RandomForestClassifier was fitted without feature names\n",
      "  warnings.warn(\n"
     ]
    },
    {
     "name": "stdout",
     "output_type": "stream",
     "text": [
      "Last Price: 2948.0\n",
      "Accuracy is 0.8333333333333334\n",
      "Checking Price\n"
     ]
    },
    {
     "name": "stderr",
     "output_type": "stream",
     "text": [
      "C:\\Users\\Azaz\\AppData\\Roaming\\Python\\Python39\\site-packages\\sklearn\\base.py:438: UserWarning: X has feature names, but RandomForestClassifier was fitted without feature names\n",
      "  warnings.warn(\n"
     ]
    },
    {
     "name": "stdout",
     "output_type": "stream",
     "text": [
      "Last Price: 2948.0\n",
      "Accuracy is 0.8333333333333334\n",
      "Checking Price\n"
     ]
    },
    {
     "name": "stderr",
     "output_type": "stream",
     "text": [
      "C:\\Users\\Azaz\\AppData\\Roaming\\Python\\Python39\\site-packages\\sklearn\\base.py:438: UserWarning: X has feature names, but RandomForestClassifier was fitted without feature names\n",
      "  warnings.warn(\n"
     ]
    },
    {
     "name": "stdout",
     "output_type": "stream",
     "text": [
      "Last Price: 2946.47\n",
      "Accuracy is 0.8333333333333334\n",
      "Checking Price\n"
     ]
    },
    {
     "name": "stderr",
     "output_type": "stream",
     "text": [
      "C:\\Users\\Azaz\\AppData\\Roaming\\Python\\Python39\\site-packages\\sklearn\\base.py:438: UserWarning: X has feature names, but RandomForestClassifier was fitted without feature names\n",
      "  warnings.warn(\n"
     ]
    },
    {
     "name": "stdout",
     "output_type": "stream",
     "text": [
      "Last Price: 2945.755\n",
      "Accuracy is 0.8333333333333334\n",
      "Checking Price\n"
     ]
    },
    {
     "name": "stderr",
     "output_type": "stream",
     "text": [
      "C:\\Users\\Azaz\\AppData\\Roaming\\Python\\Python39\\site-packages\\sklearn\\base.py:438: UserWarning: X has feature names, but RandomForestClassifier was fitted without feature names\n",
      "  warnings.warn(\n"
     ]
    },
    {
     "name": "stdout",
     "output_type": "stream",
     "text": [
      "Last Price: 2945.0\n",
      "Accuracy is 0.8333333333333334\n",
      "Buy Closed\n",
      "Checking Price\n"
     ]
    },
    {
     "name": "stderr",
     "output_type": "stream",
     "text": [
      "C:\\Users\\Azaz\\AppData\\Roaming\\Python\\Python39\\site-packages\\sklearn\\base.py:438: UserWarning: X has feature names, but RandomForestClassifier was fitted without feature names\n",
      "  warnings.warn(\n"
     ]
    },
    {
     "name": "stdout",
     "output_type": "stream",
     "text": [
      "Last Price: 2945.0\n",
      "Accuracy is 0.8333333333333334\n",
      "Sell\n",
      "Checking Price\n"
     ]
    },
    {
     "name": "stderr",
     "output_type": "stream",
     "text": [
      "C:\\Users\\Azaz\\AppData\\Roaming\\Python\\Python39\\site-packages\\sklearn\\base.py:438: UserWarning: X has feature names, but RandomForestClassifier was fitted without feature names\n",
      "  warnings.warn(\n"
     ]
    },
    {
     "name": "stdout",
     "output_type": "stream",
     "text": [
      "Last Price: 2945.0\n",
      "Accuracy is 0.8333333333333334\n",
      "Checking Price\n"
     ]
    },
    {
     "name": "stderr",
     "output_type": "stream",
     "text": [
      "C:\\Users\\Azaz\\AppData\\Roaming\\Python\\Python39\\site-packages\\sklearn\\base.py:438: UserWarning: X has feature names, but RandomForestClassifier was fitted without feature names\n",
      "  warnings.warn(\n"
     ]
    },
    {
     "name": "stdout",
     "output_type": "stream",
     "text": [
      "Last Price: 2942.99\n",
      "Accuracy is 0.8388888888888889\n",
      "Checking Price\n"
     ]
    },
    {
     "name": "stderr",
     "output_type": "stream",
     "text": [
      "C:\\Users\\Azaz\\AppData\\Roaming\\Python\\Python39\\site-packages\\sklearn\\base.py:438: UserWarning: X has feature names, but RandomForestClassifier was fitted without feature names\n",
      "  warnings.warn(\n"
     ]
    },
    {
     "name": "stdout",
     "output_type": "stream",
     "text": [
      "Last Price: 2942.44\n",
      "Accuracy is 0.8388888888888889\n",
      "Checking Price\n"
     ]
    },
    {
     "name": "stderr",
     "output_type": "stream",
     "text": [
      "C:\\Users\\Azaz\\AppData\\Roaming\\Python\\Python39\\site-packages\\sklearn\\base.py:438: UserWarning: X has feature names, but RandomForestClassifier was fitted without feature names\n",
      "  warnings.warn(\n"
     ]
    },
    {
     "name": "stdout",
     "output_type": "stream",
     "text": [
      "Last Price: 2942.44\n",
      "Accuracy is 0.8388888888888889\n"
     ]
    }
   ],
   "source": [
    "while(True):\n",
    "    print(\"Checking Price\")\n",
    "    try:\n",
    "        df = api.get_barset(symb, TimeFrame(15, TimeFrameUnit.Minute), limit=1000).df  #Get one bar object for each of the past 5 minutes\n",
    "    except Exception:\n",
    "        print(\"Failed to Connect\")\n",
    "    df=df[symb]\n",
    "    last_price = df.close[-1]                      \n",
    "    accuracy,prediction=Algorithm(df)\n",
    "    print(\"Last Price: \" + str(last_price))\n",
    "    print(f\"Accuracy is {accuracy}\")\n",
    "    if accuracy >0.50 and prediction== 1 and position_Buy!=\"Buy\" and position_Sell!=\"Sell\": \n",
    "        print(\"Buy\")\n",
    "        api.submit_order(\n",
    "            symbol=symb,\n",
    "            qty=1,\n",
    "            side='buy',\n",
    "            type='market',\n",
    "            time_in_force='gtc',)\n",
    "        Buy=last_price\n",
    "        position_Buy=\"Buy\"\n",
    "    elif accuracy >0.50 and prediction== 2 and position_Sell!=\"Sell\" and position_Buy!=\"Buy\": # If MA is more than 10cents above price, and we already bought\n",
    "        print(\"Sell\")\n",
    "        api.submit_order(\n",
    "            symbol=symb,\n",
    "            qty=1,\n",
    "            side='sell',\n",
    "            type='market',\n",
    "            time_in_force='gtc',)\n",
    "        Sell=last_price\n",
    "        position_Sell=\"Sell\"\n",
    "    elif position_Buy==\"Buy\" and (last_price>=Buy+3 or last_price<=Buy-3):\n",
    "         print(\"Buy Closed\")\n",
    "         api.submit_order(\n",
    "            symbol=symb,\n",
    "            qty=1,\n",
    "            side='sell',\n",
    "            type='market',\n",
    "            time_in_force='gtc')\n",
    "         position_Buy=None\n",
    "    elif position_Sell==\"Sell\" and (last_price>=Sell+3 or last_price<=Sell-3):\n",
    "         print(\"Sell Closed\")\n",
    "         api.submit_order(\n",
    "            symbol=symb,\n",
    "            qty=1,\n",
    "            side='buy',\n",
    "            type='market',\n",
    "            time_in_force='gtc')\n",
    "         position_Sell=None\n",
    "    time.sleep(60)"
   ]
  }
 ],
 "metadata": {
  "interpreter": {
   "hash": "ac59ebe37160ed0dfa835113d9b8498d9f09ceb179beaac4002f036b9467c963"
  },
  "kernelspec": {
   "display_name": "Python 3.9.1 64-bit",
   "language": "python",
   "name": "python3"
  },
  "language_info": {
   "codemirror_mode": {
    "name": "ipython",
    "version": 3
   },
   "file_extension": ".py",
   "mimetype": "text/x-python",
   "name": "python",
   "nbconvert_exporter": "python",
   "pygments_lexer": "ipython3",
   "version": "3.9.1"
  },
  "orig_nbformat": 4
 },
 "nbformat": 4,
 "nbformat_minor": 2
}
